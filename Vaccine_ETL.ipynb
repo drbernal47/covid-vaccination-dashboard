{
 "cells": [
  {
   "cell_type": "code",
   "execution_count": null,
   "metadata": {},
   "outputs": [],
   "source": [
    "#import dependencies\n",
    "\n",
    "import pandas as pd\n",
    "from sqlalchemy import create_engine\n",
    "from config import username, password"
   ]
  },
  {
   "cell_type": "code",
   "execution_count": null,
   "metadata": {},
   "outputs": [],
   "source": [
    "#Extract vaccineData csv and store to a dataframe\n",
    "pd.set_option('display.max_columns', None)\n",
    "vaccineData_file = \"static/data/vaccineData.csv\"\n",
    "vaccine_df = pd.read_csv(vaccineData_file)\n",
    "vaccine_df.head()"
   ]
  },
  {
   "cell_type": "code",
   "execution_count": null,
   "metadata": {},
   "outputs": [],
   "source": [
    "#drop unwanted and unneccessary columns\n",
    "\n",
    "vaccine_df = vaccine_df.loc[:, ['date', 'country', 'state', 'actuals.cases', 'actuals.newCases', 'actuals.vaccinesDistributed', 'actuals.vaccinationsInitiated', \n",
    "                               'actuals.vaccinationsCompleted', 'metrics.infectionRate', 'metrics.vaccinationsCompletedRatio']]\n",
    "\n",
    "vaccine_df.head(400)"
   ]
  },
  {
   "cell_type": "code",
   "execution_count": null,
   "metadata": {},
   "outputs": [],
   "source": [
    "#Rename columns for sql compli\n",
    "\n",
    "vaccine_df.rename(columns={\"date\":\"date\",\"country\": \"country\", \"state\": \"state\", \n",
    "                           \"actuals.cases\": \"cases\", \"actuals.newCases\": \"new_cases\", \n",
    "                           \"actuals.vaccinesDistributed\":\"vaccines_distributed\", \n",
    "                           \"actuals.vaccinationsInitiated\": \"vaccines_initiated\", \n",
    "                           \"actuals.vaccinationsCompleted\":\"vaccines_completed\",\n",
    "                           \"metrics.infectionRate\": \"infection_rate\",\n",
    "                           \"metrics.vaccinationsCompletedRatio\": \"vaccinations_completed_ratio\"}, inplace=True)\n",
    "\n",
    "vaccine_df.head(100)"
   ]
  },
  {
   "cell_type": "code",
   "execution_count": null,
   "metadata": {},
   "outputs": [],
   "source": [
    "vaccine_df.dtypes"
   ]
  },
  {
   "cell_type": "code",
   "execution_count": null,
   "metadata": {},
   "outputs": [],
   "source": [
    "#create connection to sql and engine to run\n",
    "\n",
    "rds_connection_string = f\"{username}:{password}@localhost:5432/vaccineData_db\"\n",
    "engine = create_engine(f'postgresql://{rds_connection_string}')"
   ]
  },
  {
   "cell_type": "code",
   "execution_count": null,
   "metadata": {},
   "outputs": [],
   "source": [
    "engine.table_names()"
   ]
  },
  {
   "cell_type": "code",
   "execution_count": null,
   "metadata": {},
   "outputs": [],
   "source": [
    "vaccine_df.to_sql(name='vaccinations', con=engine, if_exists='append', index=False)"
   ]
  },
  {
   "cell_type": "code",
   "execution_count": null,
   "metadata": {},
   "outputs": [],
   "source": []
  }
 ],
 "metadata": {
  "kernelspec": {
   "display_name": "Python 3",
   "language": "python",
   "name": "python3"
  },
  "language_info": {
   "codemirror_mode": {
    "name": "ipython",
    "version": 3
   },
   "file_extension": ".py",
   "mimetype": "text/x-python",
   "name": "python",
   "nbconvert_exporter": "python",
   "pygments_lexer": "ipython3",
   "version": "3.8.5"
  }
 },
 "nbformat": 4,
 "nbformat_minor": 4
}
